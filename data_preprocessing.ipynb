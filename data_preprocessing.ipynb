{
 "cells": [
  {
   "cell_type": "markdown",
   "source": [
    "# Data Pre-processing"
   ],
   "metadata": {
    "collapsed": false
   },
   "id": "dd8b7b881f0b2556"
  },
  {
   "cell_type": "markdown",
   "source": [
    "## Data Overview"
   ],
   "metadata": {
    "collapsed": false
   },
   "id": "4f184ecaade64025"
  },
  {
   "cell_type": "code",
   "execution_count": 2,
   "id": "initial_id",
   "metadata": {
    "collapsed": true,
    "ExecuteTime": {
     "end_time": "2024-11-09T13:28:33.945276Z",
     "start_time": "2024-11-09T13:28:28.691177700Z"
    }
   },
   "outputs": [
    {
     "name": "stdout",
     "output_type": "stream",
     "text": [
      "<class 'pandas.core.frame.DataFrame'>\n",
      "RangeIndex: 253561 entries, 0 to 253560\n",
      "Data columns (total 22 columns):\n",
      " #   Column      Non-Null Count   Dtype  \n",
      "---  ------      --------------   -----  \n",
      " 0   session_id  253561 non-null  int64  \n",
      " 1   site1       253561 non-null  int64  \n",
      " 2   time1       253561 non-null  object \n",
      " 3   site2       250098 non-null  float64\n",
      " 4   time2       250098 non-null  object \n",
      " 5   site3       246919 non-null  float64\n",
      " 6   time3       246919 non-null  object \n",
      " 7   site4       244321 non-null  float64\n",
      " 8   time4       244321 non-null  object \n",
      " 9   site5       241829 non-null  float64\n",
      " 10  time5       241829 non-null  object \n",
      " 11  site6       239495 non-null  float64\n",
      " 12  time6       239495 non-null  object \n",
      " 13  site7       237297 non-null  float64\n",
      " 14  time7       237297 non-null  object \n",
      " 15  site8       235224 non-null  float64\n",
      " 16  time8       235224 non-null  object \n",
      " 17  site9       233084 non-null  float64\n",
      " 18  time9       233084 non-null  object \n",
      " 19  site10      231052 non-null  float64\n",
      " 20  time10      231052 non-null  object \n",
      " 21  target      253561 non-null  int64  \n",
      "dtypes: float64(9), int64(3), object(10)\n",
      "memory usage: 42.6+ MB\n"
     ]
    }
   ],
   "source": [
    "import pandas as pd\n",
    "data = pd.read_csv('train_sessions.csv')\n",
    "data.info()"
   ]
  },
  {
   "cell_type": "code",
   "execution_count": 13,
   "outputs": [
    {
     "data": {
      "text/plain": "        session_id  site1                time1    site2                time2  \\\n0                1    718  2014-02-20 10:02:45      NaN                  NaN   \n1                2    890  2014-02-22 11:19:50    941.0  2014-02-22 11:19:50   \n2                3  14769  2013-12-16 16:40:17     39.0  2013-12-16 16:40:18   \n3                4    782  2014-03-28 10:52:12    782.0  2014-03-28 10:52:42   \n4                5     22  2014-02-28 10:53:05    177.0  2014-02-28 10:55:22   \n...            ...    ...                  ...      ...                  ...   \n253556      253557   3474  2013-11-25 10:26:54   3474.0  2013-11-25 10:26:58   \n253557      253558  12727  2013-03-12 16:01:15  12727.0  2013-03-12 16:01:16   \n253558      253559   2661  2013-09-12 14:05:03  15004.0  2013-09-12 14:05:10   \n253559      253560    812  2013-12-19 15:20:22    676.0  2013-12-19 15:20:22   \n253560      253561  34942  2014-04-25 09:56:52   1429.0  2014-04-25 09:56:53   \n\n          site3                time3    site4                time4   site5  \\\n0           NaN                  NaN      NaN                  NaN     NaN   \n1        3847.0  2014-02-22 11:19:51    941.0  2014-02-22 11:19:51   942.0   \n2       14768.0  2013-12-16 16:40:19  14769.0  2013-12-16 16:40:19    37.0   \n3         782.0  2014-03-28 10:53:12    782.0  2014-03-28 10:53:42   782.0   \n4         175.0  2014-02-28 10:55:22    178.0  2014-02-28 10:55:23   177.0   \n...         ...                  ...      ...                  ...     ...   \n253556    141.0  2013-11-25 10:27:03   2428.0  2013-11-25 10:27:04   106.0   \n253557   2215.0  2013-03-12 16:01:16     38.0  2013-03-12 16:01:17  2215.0   \n253558   5562.0  2013-09-12 14:05:10   5562.0  2013-09-12 14:06:29  5562.0   \n253559    814.0  2013-12-19 15:20:22     22.0  2013-12-19 15:20:22    39.0   \n253560  34942.0  2014-04-25 09:56:53     29.0  2014-04-25 09:56:54    30.0   \n\n        ...                time6    site7                time7    site8  \\\n0       ...                  NaN      NaN                  NaN      NaN   \n1       ...  2014-02-22 11:19:51   3847.0  2014-02-22 11:19:52   3846.0   \n2       ...  2013-12-16 16:40:19  14768.0  2013-12-16 16:40:20  14768.0   \n3       ...  2014-03-28 10:54:42    782.0  2014-03-28 10:55:12    782.0   \n4       ...  2014-02-28 10:55:59    175.0  2014-02-28 10:55:59    177.0   \n...     ...                  ...      ...                  ...      ...   \n253556  ...  2013-11-25 10:27:16   2428.0  2013-11-25 10:27:28   2428.0   \n253557  ...  2013-03-12 16:01:17  25444.0  2013-03-12 16:01:18   2215.0   \n253558  ...                  NaN      NaN                  NaN      NaN   \n253559  ...  2013-12-19 15:20:23    814.0  2013-12-19 15:20:23    570.0   \n253560  ...  2014-04-25 09:56:54   5779.0  2014-04-25 09:56:54     30.0   \n\n                      time8    site9                time9   site10  \\\n0                       NaN      NaN                  NaN      NaN   \n1       2014-02-22 11:19:52   1516.0  2014-02-22 11:20:15   1518.0   \n2       2013-12-16 16:40:21  14768.0  2013-12-16 16:40:22  14768.0   \n3       2014-03-28 10:55:42    782.0  2014-03-28 10:56:12    782.0   \n4       2014-02-28 10:55:59    177.0  2014-02-28 10:57:06    178.0   \n...                     ...      ...                  ...      ...   \n253556  2013-11-25 10:27:40   2428.0  2013-11-25 10:27:52    148.0   \n253557  2013-03-12 16:01:18     23.0  2013-03-12 16:01:18     21.0   \n253558                  NaN      NaN                  NaN      NaN   \n253559  2013-12-19 15:20:23     22.0  2013-12-19 15:20:24    570.0   \n253560  2014-04-25 09:56:55     35.0  2014-04-25 09:56:55     33.0   \n\n                     time10  target  \n0                       NaN       0  \n1       2014-02-22 11:20:16       0  \n2       2013-12-16 16:40:24       0  \n3       2014-03-28 10:56:42       0  \n4       2014-02-28 10:57:11       0  \n...                     ...     ...  \n253556  2013-11-25 10:27:53       0  \n253557  2013-03-12 16:01:18       0  \n253558                  NaN       0  \n253559  2013-12-19 15:20:24       0  \n253560  2014-04-25 09:56:55       0  \n\n[253561 rows x 22 columns]",
      "text/html": "<div>\n<style scoped>\n    .dataframe tbody tr th:only-of-type {\n        vertical-align: middle;\n    }\n\n    .dataframe tbody tr th {\n        vertical-align: top;\n    }\n\n    .dataframe thead th {\n        text-align: right;\n    }\n</style>\n<table border=\"1\" class=\"dataframe\">\n  <thead>\n    <tr style=\"text-align: right;\">\n      <th></th>\n      <th>session_id</th>\n      <th>site1</th>\n      <th>time1</th>\n      <th>site2</th>\n      <th>time2</th>\n      <th>site3</th>\n      <th>time3</th>\n      <th>site4</th>\n      <th>time4</th>\n      <th>site5</th>\n      <th>...</th>\n      <th>time6</th>\n      <th>site7</th>\n      <th>time7</th>\n      <th>site8</th>\n      <th>time8</th>\n      <th>site9</th>\n      <th>time9</th>\n      <th>site10</th>\n      <th>time10</th>\n      <th>target</th>\n    </tr>\n  </thead>\n  <tbody>\n    <tr>\n      <th>0</th>\n      <td>1</td>\n      <td>718</td>\n      <td>2014-02-20 10:02:45</td>\n      <td>NaN</td>\n      <td>NaN</td>\n      <td>NaN</td>\n      <td>NaN</td>\n      <td>NaN</td>\n      <td>NaN</td>\n      <td>NaN</td>\n      <td>...</td>\n      <td>NaN</td>\n      <td>NaN</td>\n      <td>NaN</td>\n      <td>NaN</td>\n      <td>NaN</td>\n      <td>NaN</td>\n      <td>NaN</td>\n      <td>NaN</td>\n      <td>NaN</td>\n      <td>0</td>\n    </tr>\n    <tr>\n      <th>1</th>\n      <td>2</td>\n      <td>890</td>\n      <td>2014-02-22 11:19:50</td>\n      <td>941.0</td>\n      <td>2014-02-22 11:19:50</td>\n      <td>3847.0</td>\n      <td>2014-02-22 11:19:51</td>\n      <td>941.0</td>\n      <td>2014-02-22 11:19:51</td>\n      <td>942.0</td>\n      <td>...</td>\n      <td>2014-02-22 11:19:51</td>\n      <td>3847.0</td>\n      <td>2014-02-22 11:19:52</td>\n      <td>3846.0</td>\n      <td>2014-02-22 11:19:52</td>\n      <td>1516.0</td>\n      <td>2014-02-22 11:20:15</td>\n      <td>1518.0</td>\n      <td>2014-02-22 11:20:16</td>\n      <td>0</td>\n    </tr>\n    <tr>\n      <th>2</th>\n      <td>3</td>\n      <td>14769</td>\n      <td>2013-12-16 16:40:17</td>\n      <td>39.0</td>\n      <td>2013-12-16 16:40:18</td>\n      <td>14768.0</td>\n      <td>2013-12-16 16:40:19</td>\n      <td>14769.0</td>\n      <td>2013-12-16 16:40:19</td>\n      <td>37.0</td>\n      <td>...</td>\n      <td>2013-12-16 16:40:19</td>\n      <td>14768.0</td>\n      <td>2013-12-16 16:40:20</td>\n      <td>14768.0</td>\n      <td>2013-12-16 16:40:21</td>\n      <td>14768.0</td>\n      <td>2013-12-16 16:40:22</td>\n      <td>14768.0</td>\n      <td>2013-12-16 16:40:24</td>\n      <td>0</td>\n    </tr>\n    <tr>\n      <th>3</th>\n      <td>4</td>\n      <td>782</td>\n      <td>2014-03-28 10:52:12</td>\n      <td>782.0</td>\n      <td>2014-03-28 10:52:42</td>\n      <td>782.0</td>\n      <td>2014-03-28 10:53:12</td>\n      <td>782.0</td>\n      <td>2014-03-28 10:53:42</td>\n      <td>782.0</td>\n      <td>...</td>\n      <td>2014-03-28 10:54:42</td>\n      <td>782.0</td>\n      <td>2014-03-28 10:55:12</td>\n      <td>782.0</td>\n      <td>2014-03-28 10:55:42</td>\n      <td>782.0</td>\n      <td>2014-03-28 10:56:12</td>\n      <td>782.0</td>\n      <td>2014-03-28 10:56:42</td>\n      <td>0</td>\n    </tr>\n    <tr>\n      <th>4</th>\n      <td>5</td>\n      <td>22</td>\n      <td>2014-02-28 10:53:05</td>\n      <td>177.0</td>\n      <td>2014-02-28 10:55:22</td>\n      <td>175.0</td>\n      <td>2014-02-28 10:55:22</td>\n      <td>178.0</td>\n      <td>2014-02-28 10:55:23</td>\n      <td>177.0</td>\n      <td>...</td>\n      <td>2014-02-28 10:55:59</td>\n      <td>175.0</td>\n      <td>2014-02-28 10:55:59</td>\n      <td>177.0</td>\n      <td>2014-02-28 10:55:59</td>\n      <td>177.0</td>\n      <td>2014-02-28 10:57:06</td>\n      <td>178.0</td>\n      <td>2014-02-28 10:57:11</td>\n      <td>0</td>\n    </tr>\n    <tr>\n      <th>...</th>\n      <td>...</td>\n      <td>...</td>\n      <td>...</td>\n      <td>...</td>\n      <td>...</td>\n      <td>...</td>\n      <td>...</td>\n      <td>...</td>\n      <td>...</td>\n      <td>...</td>\n      <td>...</td>\n      <td>...</td>\n      <td>...</td>\n      <td>...</td>\n      <td>...</td>\n      <td>...</td>\n      <td>...</td>\n      <td>...</td>\n      <td>...</td>\n      <td>...</td>\n      <td>...</td>\n    </tr>\n    <tr>\n      <th>253556</th>\n      <td>253557</td>\n      <td>3474</td>\n      <td>2013-11-25 10:26:54</td>\n      <td>3474.0</td>\n      <td>2013-11-25 10:26:58</td>\n      <td>141.0</td>\n      <td>2013-11-25 10:27:03</td>\n      <td>2428.0</td>\n      <td>2013-11-25 10:27:04</td>\n      <td>106.0</td>\n      <td>...</td>\n      <td>2013-11-25 10:27:16</td>\n      <td>2428.0</td>\n      <td>2013-11-25 10:27:28</td>\n      <td>2428.0</td>\n      <td>2013-11-25 10:27:40</td>\n      <td>2428.0</td>\n      <td>2013-11-25 10:27:52</td>\n      <td>148.0</td>\n      <td>2013-11-25 10:27:53</td>\n      <td>0</td>\n    </tr>\n    <tr>\n      <th>253557</th>\n      <td>253558</td>\n      <td>12727</td>\n      <td>2013-03-12 16:01:15</td>\n      <td>12727.0</td>\n      <td>2013-03-12 16:01:16</td>\n      <td>2215.0</td>\n      <td>2013-03-12 16:01:16</td>\n      <td>38.0</td>\n      <td>2013-03-12 16:01:17</td>\n      <td>2215.0</td>\n      <td>...</td>\n      <td>2013-03-12 16:01:17</td>\n      <td>25444.0</td>\n      <td>2013-03-12 16:01:18</td>\n      <td>2215.0</td>\n      <td>2013-03-12 16:01:18</td>\n      <td>23.0</td>\n      <td>2013-03-12 16:01:18</td>\n      <td>21.0</td>\n      <td>2013-03-12 16:01:18</td>\n      <td>0</td>\n    </tr>\n    <tr>\n      <th>253558</th>\n      <td>253559</td>\n      <td>2661</td>\n      <td>2013-09-12 14:05:03</td>\n      <td>15004.0</td>\n      <td>2013-09-12 14:05:10</td>\n      <td>5562.0</td>\n      <td>2013-09-12 14:05:10</td>\n      <td>5562.0</td>\n      <td>2013-09-12 14:06:29</td>\n      <td>5562.0</td>\n      <td>...</td>\n      <td>NaN</td>\n      <td>NaN</td>\n      <td>NaN</td>\n      <td>NaN</td>\n      <td>NaN</td>\n      <td>NaN</td>\n      <td>NaN</td>\n      <td>NaN</td>\n      <td>NaN</td>\n      <td>0</td>\n    </tr>\n    <tr>\n      <th>253559</th>\n      <td>253560</td>\n      <td>812</td>\n      <td>2013-12-19 15:20:22</td>\n      <td>676.0</td>\n      <td>2013-12-19 15:20:22</td>\n      <td>814.0</td>\n      <td>2013-12-19 15:20:22</td>\n      <td>22.0</td>\n      <td>2013-12-19 15:20:22</td>\n      <td>39.0</td>\n      <td>...</td>\n      <td>2013-12-19 15:20:23</td>\n      <td>814.0</td>\n      <td>2013-12-19 15:20:23</td>\n      <td>570.0</td>\n      <td>2013-12-19 15:20:23</td>\n      <td>22.0</td>\n      <td>2013-12-19 15:20:24</td>\n      <td>570.0</td>\n      <td>2013-12-19 15:20:24</td>\n      <td>0</td>\n    </tr>\n    <tr>\n      <th>253560</th>\n      <td>253561</td>\n      <td>34942</td>\n      <td>2014-04-25 09:56:52</td>\n      <td>1429.0</td>\n      <td>2014-04-25 09:56:53</td>\n      <td>34942.0</td>\n      <td>2014-04-25 09:56:53</td>\n      <td>29.0</td>\n      <td>2014-04-25 09:56:54</td>\n      <td>30.0</td>\n      <td>...</td>\n      <td>2014-04-25 09:56:54</td>\n      <td>5779.0</td>\n      <td>2014-04-25 09:56:54</td>\n      <td>30.0</td>\n      <td>2014-04-25 09:56:55</td>\n      <td>35.0</td>\n      <td>2014-04-25 09:56:55</td>\n      <td>33.0</td>\n      <td>2014-04-25 09:56:55</td>\n      <td>0</td>\n    </tr>\n  </tbody>\n</table>\n<p>253561 rows × 22 columns</p>\n</div>"
     },
     "execution_count": 13,
     "metadata": {},
     "output_type": "execute_result"
    }
   ],
   "source": [
    "data"
   ],
   "metadata": {
    "collapsed": false,
    "ExecuteTime": {
     "end_time": "2024-11-09T13:42:32.236908400Z",
     "start_time": "2024-11-09T13:42:31.067955400Z"
    }
   },
   "id": "ae8afa95908d2a38"
  },
  {
   "cell_type": "code",
   "execution_count": 3,
   "outputs": [
    {
     "data": {
      "text/plain": "session_id        0\nsite1             0\ntime1             0\nsite2          3463\ntime2          3463\nsite3          6642\ntime3          6642\nsite4          9240\ntime4          9240\nsite5         11732\ntime5         11732\nsite6         14066\ntime6         14066\nsite7         16264\ntime7         16264\nsite8         18337\ntime8         18337\nsite9         20477\ntime9         20477\nsite10        22509\ntime10        22509\ntarget            0\ndtype: int64"
     },
     "execution_count": 3,
     "metadata": {},
     "output_type": "execute_result"
    }
   ],
   "source": [
    "data.isnull().sum()"
   ],
   "metadata": {
    "collapsed": false,
    "ExecuteTime": {
     "end_time": "2024-11-09T13:28:34.182792700Z",
     "start_time": "2024-11-09T13:28:33.946266200Z"
    }
   },
   "id": "557fefba38fbc201"
  },
  {
   "cell_type": "code",
   "execution_count": 4,
   "outputs": [
    {
     "data": {
      "text/plain": "(253561, 22)"
     },
     "execution_count": 4,
     "metadata": {},
     "output_type": "execute_result"
    }
   ],
   "source": [
    "data.shape"
   ],
   "metadata": {
    "collapsed": false,
    "ExecuteTime": {
     "end_time": "2024-11-09T13:28:34.198553700Z",
     "start_time": "2024-11-09T13:28:34.181792700Z"
    }
   },
   "id": "d605fd0c7fb50896"
  },
  {
   "cell_type": "markdown",
   "source": [
    "check if there is ID : 0"
   ],
   "metadata": {
    "collapsed": false
   },
   "id": "d231d9af424e4717"
  },
  {
   "cell_type": "code",
   "execution_count": 12,
   "outputs": [
    {
     "name": "stdout",
     "output_type": "stream",
     "text": [
      "We can use ID 0\n"
     ]
    }
   ],
   "source": [
    "for i in range(1, 11):\n",
    "    if data[data[f\"site{i}\"] == 0].shape[0] != 0:\n",
    "        print(\"ID : 0\")\n",
    "        break\n",
    "else:\n",
    "    print(\"We can use ID 0\")"
   ],
   "metadata": {
    "collapsed": false,
    "ExecuteTime": {
     "end_time": "2024-11-09T13:35:18.672534100Z",
     "start_time": "2024-11-09T13:35:18.642222400Z"
    }
   },
   "id": "30f77e0e8c17aeb2"
  },
  {
   "cell_type": "markdown",
   "source": [
    "## Handling missing values"
   ],
   "metadata": {
    "collapsed": false
   },
   "id": "b55e7e4db098083b"
  },
  {
   "cell_type": "markdown",
   "source": [
    "#### first let split the time_j column to year_j, months_j , day_j, hour_j, minute_j, second_j"
   ],
   "metadata": {
    "collapsed": false
   },
   "id": "79addcfdff477ce9"
  },
  {
   "cell_type": "code",
   "execution_count": 36,
   "outputs": [
    {
     "data": {
      "text/plain": "session_id             int64\nsite1                  int64\ntime1         datetime64[ns]\nsite2                float64\ntime2         datetime64[ns]\nsite3                float64\ntime3         datetime64[ns]\nsite4                float64\ntime4         datetime64[ns]\nsite5                float64\ntime5         datetime64[ns]\nsite6                float64\ntime6         datetime64[ns]\nsite7                float64\ntime7         datetime64[ns]\nsite8                float64\ntime8         datetime64[ns]\nsite9                float64\ntime9         datetime64[ns]\nsite10               float64\ntime10        datetime64[ns]\ntarget                 int64\ndtype: object"
     },
     "execution_count": 36,
     "metadata": {},
     "output_type": "execute_result"
    }
   ],
   "source": [
    "for i in range(1, 11):\n",
    "    data[f'time{i}'] = pd.to_datetime(data[f'time{i}'], errors='coerce')\n",
    "data.dtypes"
   ],
   "metadata": {
    "collapsed": false,
    "ExecuteTime": {
     "end_time": "2024-11-09T14:45:44.358401900Z",
     "start_time": "2024-11-09T14:45:41.584493500Z"
    }
   },
   "id": "f751f3b91b860fab"
  },
  {
   "cell_type": "code",
   "execution_count": 37,
   "outputs": [],
   "source": [
    "for i in range(1, 11):\n",
    "    data[f'year{i}'] = data[f'time{i}'].dt.year\n",
    "    data[f'month{i}'] = data[f'time{i}'].dt.month\n",
    "    data[f'day{i}'] = data[f'time{i}'].dt.day\n",
    "    data[f'hour{i}'] = data[f'time{i}'].dt.hour\n",
    "    data[f'minute{i}'] = data[f'time{i}'].dt.minute\n",
    "    data[f'second{i}'] = data[f'time{i}'].dt.second"
   ],
   "metadata": {
    "collapsed": false,
    "ExecuteTime": {
     "end_time": "2024-11-09T14:48:29.925357900Z",
     "start_time": "2024-11-09T14:48:27.769823Z"
    }
   },
   "id": "d391bf85fd942e0c"
  },
  {
   "cell_type": "code",
   "execution_count": 38,
   "outputs": [
    {
     "data": {
      "text/plain": "        session_id  site1               time1    site2               time2  \\\n0                1    718 2014-02-20 10:02:45      NaN                 NaT   \n1                2    890 2014-02-22 11:19:50    941.0 2014-02-22 11:19:50   \n2                3  14769 2013-12-16 16:40:17     39.0 2013-12-16 16:40:18   \n3                4    782 2014-03-28 10:52:12    782.0 2014-03-28 10:52:42   \n4                5     22 2014-02-28 10:53:05    177.0 2014-02-28 10:55:22   \n...            ...    ...                 ...      ...                 ...   \n253556      253557   3474 2013-11-25 10:26:54   3474.0 2013-11-25 10:26:58   \n253557      253558  12727 2013-03-12 16:01:15  12727.0 2013-03-12 16:01:16   \n253558      253559   2661 2013-09-12 14:05:03  15004.0 2013-09-12 14:05:10   \n253559      253560    812 2013-12-19 15:20:22    676.0 2013-12-19 15:20:22   \n253560      253561  34942 2014-04-25 09:56:52   1429.0 2014-04-25 09:56:53   \n\n          site3               time3    site4               time4   site5  ...  \\\n0           NaN                 NaT      NaN                 NaT     NaN  ...   \n1        3847.0 2014-02-22 11:19:51    941.0 2014-02-22 11:19:51   942.0  ...   \n2       14768.0 2013-12-16 16:40:19  14769.0 2013-12-16 16:40:19    37.0  ...   \n3         782.0 2014-03-28 10:53:12    782.0 2014-03-28 10:53:42   782.0  ...   \n4         175.0 2014-02-28 10:55:22    178.0 2014-02-28 10:55:23   177.0  ...   \n...         ...                 ...      ...                 ...     ...  ...   \n253556    141.0 2013-11-25 10:27:03   2428.0 2013-11-25 10:27:04   106.0  ...   \n253557   2215.0 2013-03-12 16:01:16     38.0 2013-03-12 16:01:17  2215.0  ...   \n253558   5562.0 2013-09-12 14:05:10   5562.0 2013-09-12 14:06:29  5562.0  ...   \n253559    814.0 2013-12-19 15:20:22     22.0 2013-12-19 15:20:22    39.0  ...   \n253560  34942.0 2014-04-25 09:56:53     29.0 2014-04-25 09:56:54    30.0  ...   \n\n        day9  hour9 minute9  second9  year10  month10 day10  hour10 minute10  \\\n0        NaN    NaN     NaN      NaN     NaN      NaN   NaN     NaN      NaN   \n1       22.0   11.0    20.0     15.0  2014.0      2.0  22.0    11.0     20.0   \n2       16.0   16.0    40.0     22.0  2013.0     12.0  16.0    16.0     40.0   \n3       28.0   10.0    56.0     12.0  2014.0      3.0  28.0    10.0     56.0   \n4       28.0   10.0    57.0      6.0  2014.0      2.0  28.0    10.0     57.0   \n...      ...    ...     ...      ...     ...      ...   ...     ...      ...   \n253556  25.0   10.0    27.0     52.0  2013.0     11.0  25.0    10.0     27.0   \n253557  12.0   16.0     1.0     18.0  2013.0      3.0  12.0    16.0      1.0   \n253558   NaN    NaN     NaN      NaN     NaN      NaN   NaN     NaN      NaN   \n253559  19.0   15.0    20.0     24.0  2013.0     12.0  19.0    15.0     20.0   \n253560  25.0    9.0    56.0     55.0  2014.0      4.0  25.0     9.0     56.0   \n\n        second10  \n0            NaN  \n1           16.0  \n2           24.0  \n3           42.0  \n4           11.0  \n...          ...  \n253556      53.0  \n253557      18.0  \n253558       NaN  \n253559      24.0  \n253560      55.0  \n\n[253561 rows x 82 columns]",
      "text/html": "<div>\n<style scoped>\n    .dataframe tbody tr th:only-of-type {\n        vertical-align: middle;\n    }\n\n    .dataframe tbody tr th {\n        vertical-align: top;\n    }\n\n    .dataframe thead th {\n        text-align: right;\n    }\n</style>\n<table border=\"1\" class=\"dataframe\">\n  <thead>\n    <tr style=\"text-align: right;\">\n      <th></th>\n      <th>session_id</th>\n      <th>site1</th>\n      <th>time1</th>\n      <th>site2</th>\n      <th>time2</th>\n      <th>site3</th>\n      <th>time3</th>\n      <th>site4</th>\n      <th>time4</th>\n      <th>site5</th>\n      <th>...</th>\n      <th>day9</th>\n      <th>hour9</th>\n      <th>minute9</th>\n      <th>second9</th>\n      <th>year10</th>\n      <th>month10</th>\n      <th>day10</th>\n      <th>hour10</th>\n      <th>minute10</th>\n      <th>second10</th>\n    </tr>\n  </thead>\n  <tbody>\n    <tr>\n      <th>0</th>\n      <td>1</td>\n      <td>718</td>\n      <td>2014-02-20 10:02:45</td>\n      <td>NaN</td>\n      <td>NaT</td>\n      <td>NaN</td>\n      <td>NaT</td>\n      <td>NaN</td>\n      <td>NaT</td>\n      <td>NaN</td>\n      <td>...</td>\n      <td>NaN</td>\n      <td>NaN</td>\n      <td>NaN</td>\n      <td>NaN</td>\n      <td>NaN</td>\n      <td>NaN</td>\n      <td>NaN</td>\n      <td>NaN</td>\n      <td>NaN</td>\n      <td>NaN</td>\n    </tr>\n    <tr>\n      <th>1</th>\n      <td>2</td>\n      <td>890</td>\n      <td>2014-02-22 11:19:50</td>\n      <td>941.0</td>\n      <td>2014-02-22 11:19:50</td>\n      <td>3847.0</td>\n      <td>2014-02-22 11:19:51</td>\n      <td>941.0</td>\n      <td>2014-02-22 11:19:51</td>\n      <td>942.0</td>\n      <td>...</td>\n      <td>22.0</td>\n      <td>11.0</td>\n      <td>20.0</td>\n      <td>15.0</td>\n      <td>2014.0</td>\n      <td>2.0</td>\n      <td>22.0</td>\n      <td>11.0</td>\n      <td>20.0</td>\n      <td>16.0</td>\n    </tr>\n    <tr>\n      <th>2</th>\n      <td>3</td>\n      <td>14769</td>\n      <td>2013-12-16 16:40:17</td>\n      <td>39.0</td>\n      <td>2013-12-16 16:40:18</td>\n      <td>14768.0</td>\n      <td>2013-12-16 16:40:19</td>\n      <td>14769.0</td>\n      <td>2013-12-16 16:40:19</td>\n      <td>37.0</td>\n      <td>...</td>\n      <td>16.0</td>\n      <td>16.0</td>\n      <td>40.0</td>\n      <td>22.0</td>\n      <td>2013.0</td>\n      <td>12.0</td>\n      <td>16.0</td>\n      <td>16.0</td>\n      <td>40.0</td>\n      <td>24.0</td>\n    </tr>\n    <tr>\n      <th>3</th>\n      <td>4</td>\n      <td>782</td>\n      <td>2014-03-28 10:52:12</td>\n      <td>782.0</td>\n      <td>2014-03-28 10:52:42</td>\n      <td>782.0</td>\n      <td>2014-03-28 10:53:12</td>\n      <td>782.0</td>\n      <td>2014-03-28 10:53:42</td>\n      <td>782.0</td>\n      <td>...</td>\n      <td>28.0</td>\n      <td>10.0</td>\n      <td>56.0</td>\n      <td>12.0</td>\n      <td>2014.0</td>\n      <td>3.0</td>\n      <td>28.0</td>\n      <td>10.0</td>\n      <td>56.0</td>\n      <td>42.0</td>\n    </tr>\n    <tr>\n      <th>4</th>\n      <td>5</td>\n      <td>22</td>\n      <td>2014-02-28 10:53:05</td>\n      <td>177.0</td>\n      <td>2014-02-28 10:55:22</td>\n      <td>175.0</td>\n      <td>2014-02-28 10:55:22</td>\n      <td>178.0</td>\n      <td>2014-02-28 10:55:23</td>\n      <td>177.0</td>\n      <td>...</td>\n      <td>28.0</td>\n      <td>10.0</td>\n      <td>57.0</td>\n      <td>6.0</td>\n      <td>2014.0</td>\n      <td>2.0</td>\n      <td>28.0</td>\n      <td>10.0</td>\n      <td>57.0</td>\n      <td>11.0</td>\n    </tr>\n    <tr>\n      <th>...</th>\n      <td>...</td>\n      <td>...</td>\n      <td>...</td>\n      <td>...</td>\n      <td>...</td>\n      <td>...</td>\n      <td>...</td>\n      <td>...</td>\n      <td>...</td>\n      <td>...</td>\n      <td>...</td>\n      <td>...</td>\n      <td>...</td>\n      <td>...</td>\n      <td>...</td>\n      <td>...</td>\n      <td>...</td>\n      <td>...</td>\n      <td>...</td>\n      <td>...</td>\n      <td>...</td>\n    </tr>\n    <tr>\n      <th>253556</th>\n      <td>253557</td>\n      <td>3474</td>\n      <td>2013-11-25 10:26:54</td>\n      <td>3474.0</td>\n      <td>2013-11-25 10:26:58</td>\n      <td>141.0</td>\n      <td>2013-11-25 10:27:03</td>\n      <td>2428.0</td>\n      <td>2013-11-25 10:27:04</td>\n      <td>106.0</td>\n      <td>...</td>\n      <td>25.0</td>\n      <td>10.0</td>\n      <td>27.0</td>\n      <td>52.0</td>\n      <td>2013.0</td>\n      <td>11.0</td>\n      <td>25.0</td>\n      <td>10.0</td>\n      <td>27.0</td>\n      <td>53.0</td>\n    </tr>\n    <tr>\n      <th>253557</th>\n      <td>253558</td>\n      <td>12727</td>\n      <td>2013-03-12 16:01:15</td>\n      <td>12727.0</td>\n      <td>2013-03-12 16:01:16</td>\n      <td>2215.0</td>\n      <td>2013-03-12 16:01:16</td>\n      <td>38.0</td>\n      <td>2013-03-12 16:01:17</td>\n      <td>2215.0</td>\n      <td>...</td>\n      <td>12.0</td>\n      <td>16.0</td>\n      <td>1.0</td>\n      <td>18.0</td>\n      <td>2013.0</td>\n      <td>3.0</td>\n      <td>12.0</td>\n      <td>16.0</td>\n      <td>1.0</td>\n      <td>18.0</td>\n    </tr>\n    <tr>\n      <th>253558</th>\n      <td>253559</td>\n      <td>2661</td>\n      <td>2013-09-12 14:05:03</td>\n      <td>15004.0</td>\n      <td>2013-09-12 14:05:10</td>\n      <td>5562.0</td>\n      <td>2013-09-12 14:05:10</td>\n      <td>5562.0</td>\n      <td>2013-09-12 14:06:29</td>\n      <td>5562.0</td>\n      <td>...</td>\n      <td>NaN</td>\n      <td>NaN</td>\n      <td>NaN</td>\n      <td>NaN</td>\n      <td>NaN</td>\n      <td>NaN</td>\n      <td>NaN</td>\n      <td>NaN</td>\n      <td>NaN</td>\n      <td>NaN</td>\n    </tr>\n    <tr>\n      <th>253559</th>\n      <td>253560</td>\n      <td>812</td>\n      <td>2013-12-19 15:20:22</td>\n      <td>676.0</td>\n      <td>2013-12-19 15:20:22</td>\n      <td>814.0</td>\n      <td>2013-12-19 15:20:22</td>\n      <td>22.0</td>\n      <td>2013-12-19 15:20:22</td>\n      <td>39.0</td>\n      <td>...</td>\n      <td>19.0</td>\n      <td>15.0</td>\n      <td>20.0</td>\n      <td>24.0</td>\n      <td>2013.0</td>\n      <td>12.0</td>\n      <td>19.0</td>\n      <td>15.0</td>\n      <td>20.0</td>\n      <td>24.0</td>\n    </tr>\n    <tr>\n      <th>253560</th>\n      <td>253561</td>\n      <td>34942</td>\n      <td>2014-04-25 09:56:52</td>\n      <td>1429.0</td>\n      <td>2014-04-25 09:56:53</td>\n      <td>34942.0</td>\n      <td>2014-04-25 09:56:53</td>\n      <td>29.0</td>\n      <td>2014-04-25 09:56:54</td>\n      <td>30.0</td>\n      <td>...</td>\n      <td>25.0</td>\n      <td>9.0</td>\n      <td>56.0</td>\n      <td>55.0</td>\n      <td>2014.0</td>\n      <td>4.0</td>\n      <td>25.0</td>\n      <td>9.0</td>\n      <td>56.0</td>\n      <td>55.0</td>\n    </tr>\n  </tbody>\n</table>\n<p>253561 rows × 82 columns</p>\n</div>"
     },
     "execution_count": 38,
     "metadata": {},
     "output_type": "execute_result"
    }
   ],
   "source": [
    "data"
   ],
   "metadata": {
    "collapsed": false,
    "ExecuteTime": {
     "end_time": "2024-11-09T14:48:36.978292900Z",
     "start_time": "2024-11-09T14:48:36.563164300Z"
    }
   },
   "id": "86764a94b8a5e4ab"
  },
  {
   "cell_type": "code",
   "execution_count": 40,
   "outputs": [],
   "source": [
    "data = data.drop(columns=[f\"time{i}\" for i in range(1, 11)])"
   ],
   "metadata": {
    "collapsed": false,
    "ExecuteTime": {
     "end_time": "2024-11-09T14:51:07.077292100Z",
     "start_time": "2024-11-09T14:51:06.928803800Z"
    }
   },
   "id": "63a1876a39f7546d"
  },
  {
   "cell_type": "markdown",
   "source": [
    "we fill the messing site with 0 and\n",
    "the time we'll fill it with same day of the site1 and the mode hour for site_j"
   ],
   "metadata": {
    "collapsed": false
   },
   "id": "c8277801c2244fe5"
  },
  {
   "cell_type": "code",
   "execution_count": 42,
   "outputs": [],
   "source": [
    "for i in range(1, 11):\n",
    "    data[f'site{i}'] = data[f'site{i}'].fillna(0)\n",
    "    data[f'year{i}'] = data[f'year{i}'].fillna(data[f'year1'])\n",
    "    data[f'month{i}'] = data[f'month{i}'].fillna(data[f'month1'])\n",
    "    data[f'day{i}'] = data[f'day{i}'].fillna(data[f'day1'])\n",
    "    data[f'hour{i}'] = data[f'hour{i}'].fillna(data[f'hour{i}'].mode()[0])\n",
    "    data[f'minute{i}'] = data[f'minute{i}'].fillna(data[f'minute{i}'].mode()[0])\n",
    "    data[f'second{i}'] = data[f'second{i}'].fillna(data[f'second{i}'].mode()[0])"
   ],
   "metadata": {
    "collapsed": false,
    "ExecuteTime": {
     "end_time": "2024-11-09T14:56:18.832497800Z",
     "start_time": "2024-11-09T14:56:18.041601300Z"
    }
   },
   "id": "2ecad3bcc5ee0950"
  },
  {
   "cell_type": "code",
   "execution_count": 43,
   "outputs": [
    {
     "data": {
      "text/plain": "session_id    0\nsite1         0\nsite2         0\nsite3         0\nsite4         0\n             ..\nmonth10       0\nday10         0\nhour10        0\nminute10      0\nsecond10      0\nLength: 72, dtype: int64"
     },
     "execution_count": 43,
     "metadata": {},
     "output_type": "execute_result"
    }
   ],
   "source": [
    "data.isnull().sum()"
   ],
   "metadata": {
    "collapsed": false,
    "ExecuteTime": {
     "end_time": "2024-11-09T14:56:36.669096500Z",
     "start_time": "2024-11-09T14:56:36.566146600Z"
    }
   },
   "id": "7368ecb006c3965e"
  },
  {
   "cell_type": "markdown",
   "source": [
    "## Same for the test DATA"
   ],
   "metadata": {
    "collapsed": false
   },
   "id": "299de9b07ea7d49b"
  },
  {
   "cell_type": "code",
   "execution_count": 44,
   "outputs": [],
   "source": [
    "test = pd.read_csv(\"test_sessions.csv\")"
   ],
   "metadata": {
    "collapsed": false,
    "ExecuteTime": {
     "end_time": "2024-11-09T15:00:21.677879300Z",
     "start_time": "2024-11-09T15:00:20.096722Z"
    }
   },
   "id": "4a9e618e2e1e4a25"
  },
  {
   "cell_type": "code",
   "execution_count": 45,
   "outputs": [],
   "source": [
    "for i in range(1, 11):\n",
    "    test[f'time{i}'] = pd.to_datetime(test[f'time{i}'], errors='coerce')"
   ],
   "metadata": {
    "collapsed": false,
    "ExecuteTime": {
     "end_time": "2024-11-09T15:01:01.139685800Z",
     "start_time": "2024-11-09T15:00:58.358499200Z"
    }
   },
   "id": "b5ec3a56cb84c8bd"
  },
  {
   "cell_type": "code",
   "execution_count": 46,
   "outputs": [],
   "source": [
    "for i in range(1, 11):\n",
    "    test[f'year{i}'] = test[f'time{i}'].dt.year\n",
    "    test[f'month{i}'] = test[f'time{i}'].dt.month\n",
    "    test[f'day{i}'] = test[f'time{i}'].dt.day\n",
    "    test[f'hour{i}'] = test[f'time{i}'].dt.hour\n",
    "    test[f'minute{i}'] = test[f'time{i}'].dt.minute\n",
    "    test[f'second{i}'] = test[f'time{i}'].dt.second"
   ],
   "metadata": {
    "collapsed": false,
    "ExecuteTime": {
     "end_time": "2024-11-09T15:01:44.526873500Z",
     "start_time": "2024-11-09T15:01:43.416084500Z"
    }
   },
   "id": "80076b42d15fe274"
  },
  {
   "cell_type": "code",
   "execution_count": 47,
   "outputs": [],
   "source": [
    "test = test.drop(columns=[f\"time{i}\" for i in range(1, 11)])"
   ],
   "metadata": {
    "collapsed": false,
    "ExecuteTime": {
     "end_time": "2024-11-09T15:02:11.085306300Z",
     "start_time": "2024-11-09T15:02:10.980559600Z"
    }
   },
   "id": "e3fa5e9a90494b73"
  },
  {
   "cell_type": "code",
   "execution_count": 48,
   "outputs": [],
   "source": [
    "for i in range(1, 11):\n",
    "    test[f'site{i}'] = test[f'site{i}'].fillna(0)\n",
    "    test[f'year{i}'] = test[f'year{i}'].fillna(test[f'year1'])\n",
    "    test[f'month{i}'] = test[f'month{i}'].fillna(test[f'month1'])\n",
    "    test[f'day{i}'] = test[f'day{i}'].fillna(test[f'day1'])\n",
    "    test[f'hour{i}'] = test[f'hour{i}'].fillna(test[f'hour{i}'].mode()[0])\n",
    "    test[f'minute{i}'] = test[f'minute{i}'].fillna(test[f'minute{i}'].mode()[0])\n",
    "    test[f'second{i}'] = test[f'second{i}'].fillna(test[f'second{i}'].mode()[0])"
   ],
   "metadata": {
    "collapsed": false,
    "ExecuteTime": {
     "end_time": "2024-11-09T15:03:10.282157Z",
     "start_time": "2024-11-09T15:03:10.025092600Z"
    }
   },
   "id": "92a7d13f3269cc90"
  },
  {
   "cell_type": "code",
   "execution_count": 49,
   "outputs": [
    {
     "data": {
      "text/plain": "session_id    0\nsite1         0\nsite2         0\nsite3         0\nsite4         0\n             ..\nmonth10       0\nday10         0\nhour10        0\nminute10      0\nsecond10      0\nLength: 71, dtype: int64"
     },
     "execution_count": 49,
     "metadata": {},
     "output_type": "execute_result"
    }
   ],
   "source": [
    "test.isnull().sum()"
   ],
   "metadata": {
    "collapsed": false,
    "ExecuteTime": {
     "end_time": "2024-11-09T15:03:25.717687200Z",
     "start_time": "2024-11-09T15:03:25.661584900Z"
    }
   },
   "id": "9bc247e98f9be114"
  },
  {
   "cell_type": "code",
   "execution_count": 51,
   "outputs": [],
   "source": [
    "# data.to_csv(\"data.csv\", index=False)\n",
    "# test.to_csv(\"test.csv\", index=False)"
   ],
   "metadata": {
    "collapsed": false,
    "ExecuteTime": {
     "end_time": "2024-11-09T15:05:43.472410300Z",
     "start_time": "2024-11-09T15:05:23.270205700Z"
    }
   },
   "id": "9fe3f403df9d07a3"
  },
  {
   "cell_type": "code",
   "execution_count": null,
   "outputs": [],
   "source": [],
   "metadata": {
    "collapsed": false
   },
   "id": "b4fc24aa6aaddcc5"
  }
 ],
 "metadata": {
  "kernelspec": {
   "display_name": "Python 3",
   "language": "python",
   "name": "python3"
  },
  "language_info": {
   "codemirror_mode": {
    "name": "ipython",
    "version": 2
   },
   "file_extension": ".py",
   "mimetype": "text/x-python",
   "name": "python",
   "nbconvert_exporter": "python",
   "pygments_lexer": "ipython2",
   "version": "2.7.6"
  }
 },
 "nbformat": 4,
 "nbformat_minor": 5
}
